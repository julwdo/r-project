{
 "cells": [
  {
   "cell_type": "code",
   "execution_count": 1,
   "id": "0a7e993c-822e-4176-a2fe-582954e46736",
   "metadata": {},
   "outputs": [],
   "source": [
    "def create_deck():\n",
    "    deck = []\n",
    "    seeds = 'S C H D'.split()\n",
    "    values = [str(x) for x in range(2, 11)] + ['A', 'J', 'Q', 'K']\n",
    "    for value in values:\n",
    "        for seed in seeds:\n",
    "            deck.append((value, seed))\n",
    "    return deck"
   ]
  },
  {
   "cell_type": "code",
   "execution_count": 2,
   "id": "2fcfb955-e675-4290-a12d-d44868afb24a",
   "metadata": {},
   "outputs": [],
   "source": [
    "def create_simple_deck():\n",
    "    deck = []\n",
    "    seeds = 'S C H D'.split()\n",
    "    values = [str(x) for x in range(2, 8)] + ['A', 'J', 'Q', 'K']\n",
    "    for value in values:\n",
    "        for seed in seeds:\n",
    "            deck.append((value, seed))\n",
    "    return deck"
   ]
  },
  {
   "cell_type": "code",
   "execution_count": 3,
   "id": "918259b2-cda3-4c24-9a2b-f761a3130af9",
   "metadata": {},
   "outputs": [
    {
     "data": {
      "text/plain": [
       "['S', 'C', 'H', 'D']"
      ]
     },
     "execution_count": 3,
     "metadata": {},
     "output_type": "execute_result"
    }
   ],
   "source": [
    "seeds = 'S C H D'.split()\n",
    "seeds"
   ]
  },
  {
   "cell_type": "code",
   "execution_count": 4,
   "id": "8aa040e3-7db0-4522-8fb8-dd4e819b94fb",
   "metadata": {},
   "outputs": [
    {
     "data": {
      "text/plain": [
       "['2', '3', '4', '5', '6', '7', '8', '9', '10', 'A', 'J', 'Q', 'K']"
      ]
     },
     "execution_count": 4,
     "metadata": {},
     "output_type": "execute_result"
    }
   ],
   "source": [
    "values = [str(x) for x in range(2, 11)] + ['A', 'J', 'Q', 'K']\n",
    "values"
   ]
  },
  {
   "cell_type": "code",
   "execution_count": 5,
   "id": "e5097c43-058d-4995-be22-9c4bc8cd67ae",
   "metadata": {},
   "outputs": [
    {
     "data": {
      "text/plain": [
       "[('2', 'S'),\n",
       " ('2', 'C'),\n",
       " ('2', 'H'),\n",
       " ('2', 'D'),\n",
       " ('3', 'S'),\n",
       " ('3', 'C'),\n",
       " ('3', 'H'),\n",
       " ('3', 'D'),\n",
       " ('4', 'S'),\n",
       " ('4', 'C'),\n",
       " ('4', 'H'),\n",
       " ('4', 'D'),\n",
       " ('5', 'S'),\n",
       " ('5', 'C'),\n",
       " ('5', 'H'),\n",
       " ('5', 'D'),\n",
       " ('6', 'S'),\n",
       " ('6', 'C'),\n",
       " ('6', 'H'),\n",
       " ('6', 'D'),\n",
       " ('7', 'S'),\n",
       " ('7', 'C'),\n",
       " ('7', 'H'),\n",
       " ('7', 'D'),\n",
       " ('8', 'S'),\n",
       " ('8', 'C'),\n",
       " ('8', 'H'),\n",
       " ('8', 'D'),\n",
       " ('9', 'S'),\n",
       " ('9', 'C'),\n",
       " ('9', 'H'),\n",
       " ('9', 'D'),\n",
       " ('10', 'S'),\n",
       " ('10', 'C'),\n",
       " ('10', 'H'),\n",
       " ('10', 'D'),\n",
       " ('A', 'S'),\n",
       " ('A', 'C'),\n",
       " ('A', 'H'),\n",
       " ('A', 'D'),\n",
       " ('J', 'S'),\n",
       " ('J', 'C'),\n",
       " ('J', 'H'),\n",
       " ('J', 'D'),\n",
       " ('Q', 'S'),\n",
       " ('Q', 'C'),\n",
       " ('Q', 'H'),\n",
       " ('Q', 'D'),\n",
       " ('K', 'S'),\n",
       " ('K', 'C'),\n",
       " ('K', 'H'),\n",
       " ('K', 'D')]"
      ]
     },
     "execution_count": 5,
     "metadata": {},
     "output_type": "execute_result"
    }
   ],
   "source": [
    "deck = []\n",
    "for value in values:\n",
    "        for seed in seeds:\n",
    "            deck.append((value, seed))\n",
    "deck"
   ]
  },
  {
   "cell_type": "code",
   "execution_count": 6,
   "id": "0ea85246-7da4-453d-a89d-18d60063bb56",
   "metadata": {},
   "outputs": [
    {
     "ename": "SyntaxError",
     "evalue": "parameter without a default follows parameter with a default (3421634360.py, line 1)",
     "output_type": "error",
     "traceback": [
      "\u001b[1;36m  Cell \u001b[1;32mIn[6], line 1\u001b[1;36m\u001b[0m\n\u001b[1;33m    def create_decks(n_decks = 1, hello): # if, when calling the function, n_decks is not specified, 1 deck is created\u001b[0m\n\u001b[1;37m                                  ^\u001b[0m\n\u001b[1;31mSyntaxError\u001b[0m\u001b[1;31m:\u001b[0m parameter without a default follows parameter with a default\n"
     ]
    }
   ],
   "source": [
    "def create_decks(n_decks = 1, hello): # if, when calling the function, n_decks is not specified, 1 deck is created\n",
    "                                      # if the function has more than 1 argument, default values must be specified\n",
    "                                      # either for all arguments or arguments without a default value must be put\n",
    "                                      # at the beginning\n",
    "    print(hello)\n",
    "    decks = []\n",
    "    for i in range(n_decks):\n",
    "        deck = create_deck()\n",
    "        decks.extend(deck) # 'append' would create a list of lists; we want 1 list with cards from n decks\n",
    "    return decks"
   ]
  },
  {
   "cell_type": "code",
   "execution_count": 7,
   "id": "3e48dfa4-9ccd-4a31-9801-893b9bac057f",
   "metadata": {},
   "outputs": [],
   "source": [
    "def create_decks(n_decks:int): # ':int' is not a formal constraint; it's more of a comment\n",
    "    decks = []\n",
    "    for i in range(n_decks):\n",
    "        deck = create_deck()\n",
    "        decks.extend(deck) # 'append' would create a list of lists; we want 1 list with cards from n decks\n",
    "    return decks"
   ]
  },
  {
   "cell_type": "code",
   "execution_count": 8,
   "id": "4450ff6f-2035-4909-b490-c5bb6b5dcccc",
   "metadata": {},
   "outputs": [
    {
     "data": {
      "text/plain": [
       "[('2', 'S'),\n",
       " ('2', 'C'),\n",
       " ('2', 'H'),\n",
       " ('2', 'D'),\n",
       " ('3', 'S'),\n",
       " ('3', 'C'),\n",
       " ('3', 'H'),\n",
       " ('3', 'D'),\n",
       " ('4', 'S'),\n",
       " ('4', 'C'),\n",
       " ('4', 'H'),\n",
       " ('4', 'D'),\n",
       " ('5', 'S'),\n",
       " ('5', 'C'),\n",
       " ('5', 'H'),\n",
       " ('5', 'D'),\n",
       " ('6', 'S'),\n",
       " ('6', 'C'),\n",
       " ('6', 'H'),\n",
       " ('6', 'D'),\n",
       " ('7', 'S'),\n",
       " ('7', 'C'),\n",
       " ('7', 'H'),\n",
       " ('7', 'D'),\n",
       " ('8', 'S'),\n",
       " ('8', 'C'),\n",
       " ('8', 'H'),\n",
       " ('8', 'D'),\n",
       " ('9', 'S'),\n",
       " ('9', 'C'),\n",
       " ('9', 'H'),\n",
       " ('9', 'D'),\n",
       " ('10', 'S'),\n",
       " ('10', 'C'),\n",
       " ('10', 'H'),\n",
       " ('10', 'D'),\n",
       " ('A', 'S'),\n",
       " ('A', 'C'),\n",
       " ('A', 'H'),\n",
       " ('A', 'D'),\n",
       " ('J', 'S'),\n",
       " ('J', 'C'),\n",
       " ('J', 'H'),\n",
       " ('J', 'D'),\n",
       " ('Q', 'S'),\n",
       " ('Q', 'C'),\n",
       " ('Q', 'H'),\n",
       " ('Q', 'D'),\n",
       " ('K', 'S'),\n",
       " ('K', 'C'),\n",
       " ('K', 'H'),\n",
       " ('K', 'D'),\n",
       " ('2', 'S'),\n",
       " ('2', 'C'),\n",
       " ('2', 'H'),\n",
       " ('2', 'D'),\n",
       " ('3', 'S'),\n",
       " ('3', 'C'),\n",
       " ('3', 'H'),\n",
       " ('3', 'D'),\n",
       " ('4', 'S'),\n",
       " ('4', 'C'),\n",
       " ('4', 'H'),\n",
       " ('4', 'D'),\n",
       " ('5', 'S'),\n",
       " ('5', 'C'),\n",
       " ('5', 'H'),\n",
       " ('5', 'D'),\n",
       " ('6', 'S'),\n",
       " ('6', 'C'),\n",
       " ('6', 'H'),\n",
       " ('6', 'D'),\n",
       " ('7', 'S'),\n",
       " ('7', 'C'),\n",
       " ('7', 'H'),\n",
       " ('7', 'D'),\n",
       " ('8', 'S'),\n",
       " ('8', 'C'),\n",
       " ('8', 'H'),\n",
       " ('8', 'D'),\n",
       " ('9', 'S'),\n",
       " ('9', 'C'),\n",
       " ('9', 'H'),\n",
       " ('9', 'D'),\n",
       " ('10', 'S'),\n",
       " ('10', 'C'),\n",
       " ('10', 'H'),\n",
       " ('10', 'D'),\n",
       " ('A', 'S'),\n",
       " ('A', 'C'),\n",
       " ('A', 'H'),\n",
       " ('A', 'D'),\n",
       " ('J', 'S'),\n",
       " ('J', 'C'),\n",
       " ('J', 'H'),\n",
       " ('J', 'D'),\n",
       " ('Q', 'S'),\n",
       " ('Q', 'C'),\n",
       " ('Q', 'H'),\n",
       " ('Q', 'D'),\n",
       " ('K', 'S'),\n",
       " ('K', 'C'),\n",
       " ('K', 'H'),\n",
       " ('K', 'D')]"
      ]
     },
     "execution_count": 8,
     "metadata": {},
     "output_type": "execute_result"
    }
   ],
   "source": [
    "my_decks = create_decks(2)\n",
    "my_decks"
   ]
  },
  {
   "cell_type": "code",
   "execution_count": 9,
   "id": "84c94163-9482-441c-a688-46623905294b",
   "metadata": {},
   "outputs": [
    {
     "name": "stdout",
     "output_type": "stream",
     "text": [
      "104\n"
     ]
    }
   ],
   "source": [
    "print(len(my_decks))"
   ]
  },
  {
   "cell_type": "code",
   "execution_count": 10,
   "id": "f2e7a909-4245-4424-8115-73352653694c",
   "metadata": {},
   "outputs": [],
   "source": [
    "def create_simple_or_regular_decks(n_decks = 1, deck_generator = create_deck):\n",
    "                                            # passing function as an argument; default function is 'create_deck'\n",
    "    decks = []\n",
    "    for i in range(n_decks):\n",
    "        deck = deck_generator()\n",
    "        decks.extend(deck)\n",
    "    return decks"
   ]
  },
  {
   "cell_type": "code",
   "execution_count": 11,
   "id": "5931422e-e10e-4045-a45b-bbd8d1c1a4b5",
   "metadata": {},
   "outputs": [
    {
     "data": {
      "text/plain": [
       "[('2', 'S'),\n",
       " ('2', 'C'),\n",
       " ('2', 'H'),\n",
       " ('2', 'D'),\n",
       " ('3', 'S'),\n",
       " ('3', 'C'),\n",
       " ('3', 'H'),\n",
       " ('3', 'D'),\n",
       " ('4', 'S'),\n",
       " ('4', 'C'),\n",
       " ('4', 'H'),\n",
       " ('4', 'D'),\n",
       " ('5', 'S'),\n",
       " ('5', 'C'),\n",
       " ('5', 'H'),\n",
       " ('5', 'D'),\n",
       " ('6', 'S'),\n",
       " ('6', 'C'),\n",
       " ('6', 'H'),\n",
       " ('6', 'D'),\n",
       " ('7', 'S'),\n",
       " ('7', 'C'),\n",
       " ('7', 'H'),\n",
       " ('7', 'D'),\n",
       " ('A', 'S'),\n",
       " ('A', 'C'),\n",
       " ('A', 'H'),\n",
       " ('A', 'D'),\n",
       " ('J', 'S'),\n",
       " ('J', 'C'),\n",
       " ('J', 'H'),\n",
       " ('J', 'D'),\n",
       " ('Q', 'S'),\n",
       " ('Q', 'C'),\n",
       " ('Q', 'H'),\n",
       " ('Q', 'D'),\n",
       " ('K', 'S'),\n",
       " ('K', 'C'),\n",
       " ('K', 'H'),\n",
       " ('K', 'D'),\n",
       " ('2', 'S'),\n",
       " ('2', 'C'),\n",
       " ('2', 'H'),\n",
       " ('2', 'D'),\n",
       " ('3', 'S'),\n",
       " ('3', 'C'),\n",
       " ('3', 'H'),\n",
       " ('3', 'D'),\n",
       " ('4', 'S'),\n",
       " ('4', 'C'),\n",
       " ('4', 'H'),\n",
       " ('4', 'D'),\n",
       " ('5', 'S'),\n",
       " ('5', 'C'),\n",
       " ('5', 'H'),\n",
       " ('5', 'D'),\n",
       " ('6', 'S'),\n",
       " ('6', 'C'),\n",
       " ('6', 'H'),\n",
       " ('6', 'D'),\n",
       " ('7', 'S'),\n",
       " ('7', 'C'),\n",
       " ('7', 'H'),\n",
       " ('7', 'D'),\n",
       " ('A', 'S'),\n",
       " ('A', 'C'),\n",
       " ('A', 'H'),\n",
       " ('A', 'D'),\n",
       " ('J', 'S'),\n",
       " ('J', 'C'),\n",
       " ('J', 'H'),\n",
       " ('J', 'D'),\n",
       " ('Q', 'S'),\n",
       " ('Q', 'C'),\n",
       " ('Q', 'H'),\n",
       " ('Q', 'D'),\n",
       " ('K', 'S'),\n",
       " ('K', 'C'),\n",
       " ('K', 'H'),\n",
       " ('K', 'D')]"
      ]
     },
     "execution_count": 11,
     "metadata": {},
     "output_type": "execute_result"
    }
   ],
   "source": [
    "create_simple_or_regular_decks(n_decks = 2, deck_generator = create_simple_deck)"
   ]
  },
  {
   "cell_type": "code",
   "execution_count": 12,
   "id": "a35b9d95-0c3a-41bf-85a5-56e38ad651c2",
   "metadata": {},
   "outputs": [],
   "source": [
    "n, f = 4, create_simple_deck\n",
    "my_deck = create_simple_or_regular_decks(n_decks = n, deck_generator = f)\n",
    "assert len(my_deck) == n*40 # if it's TRUE, no output"
   ]
  },
  {
   "cell_type": "code",
   "execution_count": 13,
   "id": "471c5b27-fd03-460d-9659-1513e350cbd6",
   "metadata": {},
   "outputs": [],
   "source": [
    "age = {\n",
    "    'p1': 23,\n",
    "    'p2': 24\n",
    "}"
   ]
  },
  {
   "cell_type": "code",
   "execution_count": 14,
   "id": "be5f9e6b-ef1e-407a-9561-90189f7ba38d",
   "metadata": {},
   "outputs": [
    {
     "name": "stdout",
     "output_type": "stream",
     "text": [
      "p1 23\n",
      "p2 24\n"
     ]
    }
   ],
   "source": [
    "for key, value in age.items():\n",
    "    print(key, value)"
   ]
  },
  {
   "cell_type": "code",
   "execution_count": 15,
   "id": "18f2ec4c-949e-4f31-8f7d-cba18b5c3cee",
   "metadata": {},
   "outputs": [
    {
     "data": {
      "text/plain": [
       "['p1', 'p2']"
      ]
     },
     "execution_count": 15,
     "metadata": {},
     "output_type": "execute_result"
    }
   ],
   "source": [
    "list(age.keys())"
   ]
  },
  {
   "cell_type": "code",
   "execution_count": 16,
   "id": "b3a510be-4f89-4295-99ba-76ffe311fae5",
   "metadata": {},
   "outputs": [
    {
     "data": {
      "text/plain": [
       "[23, 24]"
      ]
     },
     "execution_count": 16,
     "metadata": {},
     "output_type": "execute_result"
    }
   ],
   "source": [
    "list(age.values())"
   ]
  },
  {
   "cell_type": "code",
   "execution_count": 17,
   "id": "322cee67-8b1a-4f46-82f1-9f170d2517c0",
   "metadata": {},
   "outputs": [
    {
     "data": {
      "text/plain": [
       "{'A': 11, 'J': 10, 'Q': 10, 'K': 10}"
      ]
     },
     "execution_count": 17,
     "metadata": {},
     "output_type": "execute_result"
    }
   ],
   "source": [
    "card_value = {\n",
    "    'A': 11,\n",
    "    'J': 10,\n",
    "    'Q': 10,\n",
    "    'K': 10\n",
    "}\n",
    "card_value"
   ]
  },
  {
   "cell_type": "code",
   "execution_count": 18,
   "id": "9ebb46a5-3544-46c2-86f7-7690e2e46d33",
   "metadata": {},
   "outputs": [],
   "source": [
    "def get_card_value(x):\n",
    "    if x in card_value.keys():\n",
    "        return card_value[x]\n",
    "    else:\n",
    "        return int(x)"
   ]
  },
  {
   "cell_type": "code",
   "execution_count": 19,
   "id": "cdd516b0-ecd1-4a0e-9b27-a66dd43e9777",
   "metadata": {},
   "outputs": [
    {
     "data": {
      "text/plain": [
       "11"
      ]
     },
     "execution_count": 19,
     "metadata": {},
     "output_type": "execute_result"
    }
   ],
   "source": [
    "get_card_value('A')"
   ]
  },
  {
   "cell_type": "code",
   "execution_count": 20,
   "id": "4e049a5d-f4be-4cfd-ac1b-13e1b2097314",
   "metadata": {},
   "outputs": [],
   "source": [
    "def get_card_value1(x):\n",
    "    try:\n",
    "        return card_value[x]\n",
    "    except KeyError:\n",
    "        return int(x)"
   ]
  },
  {
   "cell_type": "code",
   "execution_count": 21,
   "id": "cf18df26-4e8c-4c89-a1a8-b722a71fde4b",
   "metadata": {},
   "outputs": [
    {
     "data": {
      "text/plain": [
       "11"
      ]
     },
     "execution_count": 21,
     "metadata": {},
     "output_type": "execute_result"
    }
   ],
   "source": [
    "get_card_value1('A')"
   ]
  },
  {
   "cell_type": "code",
   "execution_count": 22,
   "id": "22b1d237-72e0-4e54-ae4d-42ba38d214cb",
   "metadata": {},
   "outputs": [],
   "source": [
    "def get_card_value2(x):\n",
    "    return card_value.get(x, int(x))\n",
    "# 'get' function allows to specify a default value in case the key is not in the dictionary"
   ]
  },
  {
   "cell_type": "code",
   "execution_count": 23,
   "id": "765a9a15-74c8-49dd-a080-1f8a48e9992b",
   "metadata": {},
   "outputs": [
    {
     "ename": "ValueError",
     "evalue": "invalid literal for int() with base 10: 'A'",
     "output_type": "error",
     "traceback": [
      "\u001b[1;31m---------------------------------------------------------------------------\u001b[0m",
      "\u001b[1;31mValueError\u001b[0m                                Traceback (most recent call last)",
      "\u001b[1;32md:\\Studies\\Materials\\Second-cycle\\I year\\I semester\\Coding for DS and DM\\Python\\Lectures\\blackjack-example.ipynb Cell 23\u001b[0m line \u001b[0;36m1\n\u001b[1;32m----> <a href='vscode-notebook-cell:/d%3A/Studies/Materials/Second-cycle/I%20year/I%20semester/Coding%20for%20DS%20and%20DM/Python/Lectures/blackjack-example.ipynb#X31sZmlsZQ%3D%3D?line=0'>1</a>\u001b[0m get_card_value2(\u001b[39m'\u001b[39;49m\u001b[39mA\u001b[39;49m\u001b[39m'\u001b[39;49m)\n",
      "\u001b[1;32md:\\Studies\\Materials\\Second-cycle\\I year\\I semester\\Coding for DS and DM\\Python\\Lectures\\blackjack-example.ipynb Cell 23\u001b[0m line \u001b[0;36m2\n\u001b[0;32m      <a href='vscode-notebook-cell:/d%3A/Studies/Materials/Second-cycle/I%20year/I%20semester/Coding%20for%20DS%20and%20DM/Python/Lectures/blackjack-example.ipynb#X31sZmlsZQ%3D%3D?line=0'>1</a>\u001b[0m \u001b[39mdef\u001b[39;00m \u001b[39mget_card_value2\u001b[39m(x):\n\u001b[1;32m----> <a href='vscode-notebook-cell:/d%3A/Studies/Materials/Second-cycle/I%20year/I%20semester/Coding%20for%20DS%20and%20DM/Python/Lectures/blackjack-example.ipynb#X31sZmlsZQ%3D%3D?line=1'>2</a>\u001b[0m     \u001b[39mreturn\u001b[39;00m card_value\u001b[39m.\u001b[39mget(x, \u001b[39mint\u001b[39;49m(x))\n",
      "\u001b[1;31mValueError\u001b[0m: invalid literal for int() with base 10: 'A'"
     ]
    }
   ],
   "source": [
    "get_card_value2('A')"
   ]
  },
  {
   "cell_type": "code",
   "execution_count": null,
   "id": "e1eee70e-1327-4349-bd3e-fc690650dff5",
   "metadata": {},
   "outputs": [],
   "source": [
    "def get_card_value3(x):\n",
    "    surface = x[0]\n",
    "    if surface in {'J', 'K', 'Q'}:\n",
    "        return 10\n",
    "    elif surface == 'A':\n",
    "        return 11\n",
    "    else:\n",
    "        return int(surface)\n"
   ]
  },
  {
   "cell_type": "code",
   "execution_count": 24,
   "id": "2f32f71f",
   "metadata": {},
   "outputs": [],
   "source": [
    "def as_str(x):\n",
    "    return \"{}{}\".format(x[0], x[1])"
   ]
  },
  {
   "cell_type": "code",
   "execution_count": 25,
   "id": "fb4b47de",
   "metadata": {},
   "outputs": [
    {
     "data": {
      "text/plain": [
       "[('2', 'S'),\n",
       " ('2', 'C'),\n",
       " ('2', 'H'),\n",
       " ('2', 'D'),\n",
       " ('3', 'S'),\n",
       " ('3', 'C'),\n",
       " ('3', 'H'),\n",
       " ('3', 'D'),\n",
       " ('4', 'S'),\n",
       " ('4', 'C'),\n",
       " ('4', 'H'),\n",
       " ('4', 'D'),\n",
       " ('5', 'S'),\n",
       " ('5', 'C'),\n",
       " ('5', 'H'),\n",
       " ('5', 'D'),\n",
       " ('6', 'S'),\n",
       " ('6', 'C'),\n",
       " ('6', 'H'),\n",
       " ('6', 'D'),\n",
       " ('7', 'S'),\n",
       " ('7', 'C'),\n",
       " ('7', 'H'),\n",
       " ('7', 'D'),\n",
       " ('8', 'S'),\n",
       " ('8', 'C'),\n",
       " ('8', 'H'),\n",
       " ('8', 'D'),\n",
       " ('9', 'S'),\n",
       " ('9', 'C'),\n",
       " ('9', 'H'),\n",
       " ('9', 'D'),\n",
       " ('10', 'S'),\n",
       " ('10', 'C'),\n",
       " ('10', 'H'),\n",
       " ('10', 'D'),\n",
       " ('A', 'S'),\n",
       " ('A', 'C'),\n",
       " ('A', 'H'),\n",
       " ('A', 'D'),\n",
       " ('J', 'S'),\n",
       " ('J', 'C'),\n",
       " ('J', 'H'),\n",
       " ('J', 'D'),\n",
       " ('Q', 'S'),\n",
       " ('Q', 'C'),\n",
       " ('Q', 'H'),\n",
       " ('Q', 'D'),\n",
       " ('K', 'S'),\n",
       " ('K', 'C'),\n",
       " ('K', 'H'),\n",
       " ('K', 'D')]"
      ]
     },
     "execution_count": 25,
     "metadata": {},
     "output_type": "execute_result"
    }
   ],
   "source": [
    "my_deck1 = create_deck()\n",
    "my_deck1"
   ]
  },
  {
   "cell_type": "code",
   "execution_count": 26,
   "id": "951d1105",
   "metadata": {},
   "outputs": [
    {
     "ename": "NameError",
     "evalue": "name 'get_card_value3' is not defined",
     "output_type": "error",
     "traceback": [
      "\u001b[1;31m---------------------------------------------------------------------------\u001b[0m",
      "\u001b[1;31mNameError\u001b[0m                                 Traceback (most recent call last)",
      "\u001b[1;32md:\\Studies\\Materials\\Second-cycle\\I year\\I semester\\Coding for DS and DM\\Python\\Lectures\\blackjack-example.ipynb Cell 27\u001b[0m line \u001b[0;36m2\n\u001b[0;32m      <a href='vscode-notebook-cell:/d%3A/Studies/Materials/Second-cycle/I%20year/I%20semester/Coding%20for%20DS%20and%20DM/Python/Lectures/blackjack-example.ipynb#X35sZmlsZQ%3D%3D?line=0'>1</a>\u001b[0m \u001b[39mfor\u001b[39;00m card \u001b[39min\u001b[39;00m my_deck1:\n\u001b[1;32m----> <a href='vscode-notebook-cell:/d%3A/Studies/Materials/Second-cycle/I%20year/I%20semester/Coding%20for%20DS%20and%20DM/Python/Lectures/blackjack-example.ipynb#X35sZmlsZQ%3D%3D?line=1'>2</a>\u001b[0m     \u001b[39mprint\u001b[39m(as_str(card), \u001b[39m\"\u001b[39m\u001b[39m==>\u001b[39m\u001b[39m\"\u001b[39m, get_card_value3(card))\n",
      "\u001b[1;31mNameError\u001b[0m: name 'get_card_value3' is not defined"
     ]
    }
   ],
   "source": [
    "for card in my_deck1:\n",
    "    print(as_str(card), \"==>\", get_card_value3(card))"
   ]
  },
  {
   "cell_type": "code",
   "execution_count": 27,
   "id": "c5ff284b",
   "metadata": {},
   "outputs": [
    {
     "data": {
      "text/plain": [
       "[3, 4, 1, 2, 6, 8, 5, 7]"
      ]
     },
     "execution_count": 27,
     "metadata": {},
     "output_type": "execute_result"
    }
   ],
   "source": [
    "import numpy as np\n",
    "a = [1, 2, 3, 4, 5, 6, 7, 8]\n",
    "np.random.shuffle(a) # doesn't create a new, shuffled list, but shuffles 'a'\n",
    "a"
   ]
  },
  {
   "cell_type": "code",
   "execution_count": 28,
   "id": "0fd9c736",
   "metadata": {},
   "outputs": [
    {
     "data": {
      "text/plain": [
       "3"
      ]
     },
     "execution_count": 28,
     "metadata": {},
     "output_type": "execute_result"
    }
   ],
   "source": [
    "a.pop() # returns the last item of 'a'\n",
    "a.pop(0) # returnd the first item of 'a'"
   ]
  },
  {
   "cell_type": "code",
   "execution_count": 29,
   "id": "a5756748",
   "metadata": {},
   "outputs": [
    {
     "ename": "ValueError",
     "evalue": "'a' and 'p' must have same size",
     "output_type": "error",
     "traceback": [
      "\u001b[1;31m---------------------------------------------------------------------------\u001b[0m",
      "\u001b[1;31mValueError\u001b[0m                                Traceback (most recent call last)",
      "\u001b[1;32md:\\Studies\\Materials\\Second-cycle\\I year\\I semester\\Coding for DS and DM\\Python\\Lectures\\blackjack-example.ipynb Cell 30\u001b[0m line \u001b[0;36m1\n\u001b[1;32m----> <a href='vscode-notebook-cell:/d%3A/Studies/Materials/Second-cycle/I%20year/I%20semester/Coding%20for%20DS%20and%20DM/Python/Lectures/blackjack-example.ipynb#X41sZmlsZQ%3D%3D?line=0'>1</a>\u001b[0m np\u001b[39m.\u001b[39;49mrandom\u001b[39m.\u001b[39;49mchoice(a, size \u001b[39m=\u001b[39;49m \u001b[39m6\u001b[39;49m, replace \u001b[39m=\u001b[39;49m \u001b[39mTrue\u001b[39;49;00m, p \u001b[39m=\u001b[39;49m [\u001b[39m.8\u001b[39;49m, \u001b[39m.1\u001b[39;49m, \u001b[39m.1\u001b[39;49m, \u001b[39m0\u001b[39;49m, \u001b[39m0\u001b[39;49m, \u001b[39m0\u001b[39;49m, \u001b[39m0\u001b[39;49m, \u001b[39m0\u001b[39;49m])\n",
      "File \u001b[1;32mnumpy\\\\random\\\\mtrand.pyx:967\u001b[0m, in \u001b[0;36mnumpy.random.mtrand.RandomState.choice\u001b[1;34m()\u001b[0m\n",
      "\u001b[1;31mValueError\u001b[0m: 'a' and 'p' must have same size"
     ]
    }
   ],
   "source": [
    "np.random.choice(a, size = 6, replace = True, p = [.8, .1, .1, 0, 0, 0, 0, 0])"
   ]
  },
  {
   "cell_type": "code",
   "execution_count": 30,
   "id": "95efcb48",
   "metadata": {},
   "outputs": [
    {
     "data": {
      "text/plain": [
       "array([4, 1, 2, 6, 8, 5])"
      ]
     },
     "execution_count": 30,
     "metadata": {},
     "output_type": "execute_result"
    }
   ],
   "source": [
    "b = np.array(a)\n",
    "b"
   ]
  },
  {
   "cell_type": "code",
   "execution_count": 31,
   "id": "903aaa66",
   "metadata": {},
   "outputs": [
    {
     "data": {
      "text/plain": [
       "(6,)"
      ]
     },
     "execution_count": 31,
     "metadata": {},
     "output_type": "execute_result"
    }
   ],
   "source": [
    "b.shape # or len(b)"
   ]
  },
  {
   "cell_type": "code",
   "execution_count": 32,
   "id": "b4efce97",
   "metadata": {},
   "outputs": [
    {
     "data": {
      "text/plain": [
       "array([12,  3,  6, 18, 24, 15])"
      ]
     },
     "execution_count": 32,
     "metadata": {},
     "output_type": "execute_result"
    }
   ],
   "source": [
    "3 * b"
   ]
  },
  {
   "cell_type": "code",
   "execution_count": 33,
   "id": "f4ac26fa",
   "metadata": {},
   "outputs": [
    {
     "data": {
      "text/plain": [
       "array([[2, 3, 4],\n",
       "       [1, 2, 2]])"
      ]
     },
     "execution_count": 33,
     "metadata": {},
     "output_type": "execute_result"
    }
   ],
   "source": [
    "m = np.array([\n",
    "    [2, 3, 4],\n",
    "    [1, 2, 2]\n",
    "])\n",
    "m"
   ]
  },
  {
   "cell_type": "code",
   "execution_count": 34,
   "id": "afdd7f05",
   "metadata": {},
   "outputs": [
    {
     "data": {
      "text/plain": [
       "array([[4, 1, 2],\n",
       "       [6, 8, 5]])"
      ]
     },
     "execution_count": 34,
     "metadata": {},
     "output_type": "execute_result"
    }
   ],
   "source": [
    "c = b.reshape(2, 3) # creates a 2x4 matrix out of vector 'b'\n",
    "c"
   ]
  },
  {
   "cell_type": "code",
   "execution_count": 35,
   "id": "c8055cba",
   "metadata": {},
   "outputs": [
    {
     "data": {
      "text/plain": [
       "array([[4, 1, 2],\n",
       "       [6, 8, 5]])"
      ]
     },
     "execution_count": 35,
     "metadata": {},
     "output_type": "execute_result"
    }
   ],
   "source": [
    "b.reshape(2, -1) # '-1' means that Python chooses the number of columns s.t. all numbers are distributed"
   ]
  },
  {
   "cell_type": "code",
   "execution_count": 36,
   "id": "3558c171",
   "metadata": {},
   "outputs": [
    {
     "data": {
      "text/plain": [
       "array([[4, 1],\n",
       "       [2, 6],\n",
       "       [8, 5]])"
      ]
     },
     "execution_count": 36,
     "metadata": {},
     "output_type": "execute_result"
    }
   ],
   "source": [
    "d = b.reshape(-1, 2)\n",
    "d"
   ]
  },
  {
   "cell_type": "code",
   "execution_count": 37,
   "id": "b7d5c86e",
   "metadata": {},
   "outputs": [
    {
     "ename": "ValueError",
     "evalue": "'a' and 'p' must have same size",
     "output_type": "error",
     "traceback": [
      "\u001b[1;31m---------------------------------------------------------------------------\u001b[0m",
      "\u001b[1;31mValueError\u001b[0m                                Traceback (most recent call last)",
      "\u001b[1;32md:\\Studies\\Materials\\Second-cycle\\I year\\I semester\\Coding for DS and DM\\Python\\Lectures\\blackjack-example.ipynb Cell 38\u001b[0m line \u001b[0;36m1\n\u001b[1;32m----> <a href='vscode-notebook-cell:/d%3A/Studies/Materials/Second-cycle/I%20year/I%20semester/Coding%20for%20DS%20and%20DM/Python/Lectures/blackjack-example.ipynb#X52sZmlsZQ%3D%3D?line=0'>1</a>\u001b[0m np\u001b[39m.\u001b[39;49mrandom\u001b[39m.\u001b[39;49mchoice(a, size \u001b[39m=\u001b[39;49m (\u001b[39m3\u001b[39;49m, \u001b[39m6\u001b[39;49m), replace \u001b[39m=\u001b[39;49m \u001b[39mTrue\u001b[39;49;00m, p \u001b[39m=\u001b[39;49m [\u001b[39m.8\u001b[39;49m, \u001b[39m.1\u001b[39;49m, \u001b[39m.1\u001b[39;49m, \u001b[39m0\u001b[39;49m, \u001b[39m0\u001b[39;49m, \u001b[39m0\u001b[39;49m, \u001b[39m0\u001b[39;49m, \u001b[39m0\u001b[39;49m])\n",
      "File \u001b[1;32mnumpy\\\\random\\\\mtrand.pyx:967\u001b[0m, in \u001b[0;36mnumpy.random.mtrand.RandomState.choice\u001b[1;34m()\u001b[0m\n",
      "\u001b[1;31mValueError\u001b[0m: 'a' and 'p' must have same size"
     ]
    }
   ],
   "source": [
    "np.random.choice(a, size = (3, 6), replace = True, p = [.8, .1, .1, 0, 0, 0, 0, 0])"
   ]
  },
  {
   "cell_type": "code",
   "execution_count": 38,
   "id": "8b29997c",
   "metadata": {},
   "outputs": [
    {
     "data": {
      "text/plain": [
       "array([4, 1, 2])"
      ]
     },
     "execution_count": 38,
     "metadata": {},
     "output_type": "execute_result"
    }
   ],
   "source": [
    "c[0]"
   ]
  },
  {
   "cell_type": "code",
   "execution_count": 39,
   "id": "1f27f84b",
   "metadata": {},
   "outputs": [
    {
     "data": {
      "text/plain": [
       "array([[6],\n",
       "       [5]])"
      ]
     },
     "execution_count": 39,
     "metadata": {},
     "output_type": "execute_result"
    }
   ],
   "source": [
    "d[-2:, -1:]"
   ]
  },
  {
   "cell_type": "code",
   "execution_count": 40,
   "id": "6185957d",
   "metadata": {},
   "outputs": [
    {
     "data": {
      "text/plain": [
       "array([[4, 2, 8],\n",
       "       [1, 6, 5]])"
      ]
     },
     "execution_count": 40,
     "metadata": {},
     "output_type": "execute_result"
    }
   ],
   "source": [
    "d.T"
   ]
  },
  {
   "cell_type": "code",
   "execution_count": 41,
   "id": "d5472fa3",
   "metadata": {},
   "outputs": [
    {
     "data": {
      "text/plain": [
       "array([[4, 1],\n",
       "       [2, 6],\n",
       "       [8, 5]])"
      ]
     },
     "execution_count": 41,
     "metadata": {},
     "output_type": "execute_result"
    }
   ],
   "source": [
    "d"
   ]
  },
  {
   "cell_type": "code",
   "execution_count": 42,
   "id": "ab124ebf",
   "metadata": {},
   "outputs": [
    {
     "data": {
      "text/plain": [
       "4.666666666666667"
      ]
     },
     "execution_count": 42,
     "metadata": {},
     "output_type": "execute_result"
    }
   ],
   "source": [
    "d[:, 0].mean() # also std(), sum(), prod()"
   ]
  },
  {
   "cell_type": "code",
   "execution_count": 43,
   "id": "40f0a9ef",
   "metadata": {},
   "outputs": [
    {
     "data": {
      "text/plain": [
       "4.333333333333333"
      ]
     },
     "execution_count": 43,
     "metadata": {},
     "output_type": "execute_result"
    }
   ],
   "source": [
    "d.mean() # mean of all the elements in the matrix"
   ]
  },
  {
   "cell_type": "code",
   "execution_count": 44,
   "id": "29c8c211",
   "metadata": {},
   "outputs": [
    {
     "data": {
      "text/plain": [
       "array([2.5, 4. , 6.5])"
      ]
     },
     "execution_count": 44,
     "metadata": {},
     "output_type": "execute_result"
    }
   ],
   "source": [
    "d.mean(axis = 0) # '0' -> column-wise mean\n",
    "d.mean(axis = 1) # '1' -> row-wise mean"
   ]
  },
  {
   "cell_type": "code",
   "execution_count": 45,
   "id": "a637e3b8",
   "metadata": {},
   "outputs": [
    {
     "data": {
      "text/plain": [
       "array([[9, 4],\n",
       "       [0, 5],\n",
       "       [8, 1]])"
      ]
     },
     "execution_count": 45,
     "metadata": {},
     "output_type": "execute_result"
    }
   ],
   "source": [
    "X = np.random.randint(0, 10, size = (3, 2))\n",
    "X"
   ]
  },
  {
   "cell_type": "code",
   "execution_count": 46,
   "id": "ddde320a",
   "metadata": {},
   "outputs": [
    {
     "data": {
      "text/plain": [
       "array([[36,  4],\n",
       "       [ 0, 30],\n",
       "       [64,  5]])"
      ]
     },
     "execution_count": 46,
     "metadata": {},
     "output_type": "execute_result"
    }
   ],
   "source": [
    "d * X # element-wise multiplication"
   ]
  },
  {
   "cell_type": "code",
   "execution_count": 47,
   "id": "bc509b5f",
   "metadata": {},
   "outputs": [
    {
     "data": {
      "text/plain": [
       "array([[100,  34],\n",
       "       [ 49,  39]])"
      ]
     },
     "execution_count": 47,
     "metadata": {},
     "output_type": "execute_result"
    }
   ],
   "source": [
    "d.T.dot(X) # dot product"
   ]
  },
  {
   "cell_type": "code",
   "execution_count": 156,
   "id": "f31fa36d",
   "metadata": {},
   "outputs": [],
   "source": [
    "class Card:\n",
    "    def __init__(self, surface, seed):\n",
    "        self.surface = surface\n",
    "        self.seed = seed\n",
    "\n",
    "    def __str__(self):\n",
    "        return \"{} {}\".format(self.surface, self.seed)\n",
    "    \n",
    "    def __repr__(self):\n",
    "        return str(self)\n",
    "\n",
    "    @property\n",
    "    def value(self):\n",
    "        if self.surface in {'J', 'Q', 'K'}:\n",
    "            return 10\n",
    "        elif self.surface == 'A':\n",
    "            return 1\n",
    "        else:\n",
    "            return int(self.surface)"
   ]
  },
  {
   "cell_type": "code",
   "execution_count": 126,
   "id": "795e8b1b",
   "metadata": {},
   "outputs": [
    {
     "data": {
      "text/plain": [
       "A H"
      ]
     },
     "execution_count": 126,
     "metadata": {},
     "output_type": "execute_result"
    }
   ],
   "source": [
    "c = Card('A', 'H')\n",
    "c"
   ]
  },
  {
   "cell_type": "code",
   "execution_count": 127,
   "id": "d92be326",
   "metadata": {},
   "outputs": [
    {
     "data": {
      "text/plain": [
       "('A', 'H')"
      ]
     },
     "execution_count": 127,
     "metadata": {},
     "output_type": "execute_result"
    }
   ],
   "source": [
    "c.surface, c.seed"
   ]
  },
  {
   "cell_type": "code",
   "execution_count": 128,
   "id": "3e9d84f4",
   "metadata": {},
   "outputs": [
    {
     "data": {
      "text/plain": [
       "'A H'"
      ]
     },
     "execution_count": 128,
     "metadata": {},
     "output_type": "execute_result"
    }
   ],
   "source": [
    "c.__str__()"
   ]
  },
  {
   "cell_type": "code",
   "execution_count": 129,
   "id": "5f0daa5d",
   "metadata": {},
   "outputs": [
    {
     "name": "stdout",
     "output_type": "stream",
     "text": [
      "2 S ==> 2\n",
      "2 C ==> 2\n",
      "2 H ==> 2\n",
      "2 D ==> 2\n",
      "3 S ==> 3\n",
      "3 C ==> 3\n",
      "3 H ==> 3\n",
      "3 D ==> 3\n",
      "4 S ==> 4\n",
      "4 C ==> 4\n",
      "4 H ==> 4\n",
      "4 D ==> 4\n",
      "5 S ==> 5\n",
      "5 C ==> 5\n",
      "5 H ==> 5\n",
      "5 D ==> 5\n",
      "6 S ==> 6\n",
      "6 C ==> 6\n",
      "6 H ==> 6\n",
      "6 D ==> 6\n",
      "7 S ==> 7\n",
      "7 C ==> 7\n",
      "7 H ==> 7\n",
      "7 D ==> 7\n",
      "8 S ==> 8\n",
      "8 C ==> 8\n",
      "8 H ==> 8\n",
      "8 D ==> 8\n",
      "9 S ==> 9\n",
      "9 C ==> 9\n",
      "9 H ==> 9\n",
      "9 D ==> 9\n",
      "10 S ==> 10\n",
      "10 C ==> 10\n",
      "10 H ==> 10\n",
      "10 D ==> 10\n",
      "A S ==> 1\n",
      "A C ==> 1\n",
      "A H ==> 1\n",
      "A D ==> 1\n",
      "J S ==> 10\n",
      "J C ==> 10\n",
      "J H ==> 10\n",
      "J D ==> 10\n",
      "Q S ==> 10\n",
      "Q C ==> 10\n",
      "Q H ==> 10\n",
      "Q D ==> 10\n",
      "K S ==> 10\n",
      "K C ==> 10\n",
      "K H ==> 10\n",
      "K D ==> 10\n"
     ]
    }
   ],
   "source": [
    "surfaces = [str(x) for x in range(2, 11)] + ['A', 'J', 'Q', 'K']\n",
    "seeds = 'S C H D'.split()\n",
    "\n",
    "for surface in surfaces:\n",
    "    for seed in seeds:\n",
    "        c = Card(surface = surface, seed = seed)\n",
    "        print(c.__str__(), \"==>\", c.value())"
   ]
  },
  {
   "cell_type": "code",
   "execution_count": 143,
   "id": "0c8655ba",
   "metadata": {},
   "outputs": [],
   "source": [
    "class Deck:\n",
    "    def __init__(self, n_decks: int = 1):\n",
    "        self.cards = []\n",
    "        for i in range(n_decks):\n",
    "            self._create_deck()\n",
    "\n",
    "    def _create_deck(self):\n",
    "        for surface in [str(x) for x in range(2, 11)] + ['A', 'J', 'Q', 'K']:\n",
    "            for seed in ['C', 'H', 'S', 'C']:\n",
    "                c = Card(surface = surface, seed = seed)\n",
    "                self.cards.append(c)\n",
    "\n",
    "    def shuffle(self):\n",
    "        np.random.shuffle(self.cards)\n",
    "\n",
    "    def deal(self, hand_size: int):\n",
    "        hand = []\n",
    "        for i in range(hand_size):\n",
    "            try:\n",
    "                hand.append(self.cards.pop())\n",
    "            except IndexError:\n",
    "                # raise IndexError('The deck is empty.')\n",
    "                self._create_deck()\n",
    "                hand.append(self.cards.pop()) # Instead of raising an error, we recreate the deck\n",
    "        return hand\n",
    "\n",
    "    @property # Allows to call size as deck.size and not deck.size()\n",
    "    def size(self):\n",
    "        return len(self.cards)"
   ]
  },
  {
   "cell_type": "code",
   "execution_count": 144,
   "id": "e5e9d801",
   "metadata": {},
   "outputs": [
    {
     "data": {
      "text/plain": [
       "260"
      ]
     },
     "execution_count": 144,
     "metadata": {},
     "output_type": "execute_result"
    }
   ],
   "source": [
    "deck = Deck(5)\n",
    "deck.size"
   ]
  },
  {
   "cell_type": "code",
   "execution_count": 145,
   "id": "1c98a349",
   "metadata": {},
   "outputs": [
    {
     "data": {
      "text/plain": [
       "[2 C, 6 C, 7 H, 3 C, J C, 2 S, Q C, 8 C, J S, 7 S]"
      ]
     },
     "execution_count": 145,
     "metadata": {},
     "output_type": "execute_result"
    }
   ],
   "source": [
    "deck.shuffle()\n",
    "hand = deck.deal(10)\n",
    "hand"
   ]
  },
  {
   "cell_type": "code",
   "execution_count": 146,
   "id": "44181b26",
   "metadata": {},
   "outputs": [
    {
     "data": {
      "text/plain": [
       "65"
      ]
     },
     "execution_count": 146,
     "metadata": {},
     "output_type": "execute_result"
    }
   ],
   "source": [
    "sum(c.value() for c in hand) # The value of the hand"
   ]
  },
  {
   "cell_type": "code",
   "execution_count": 161,
   "id": "ec84a34f",
   "metadata": {},
   "outputs": [],
   "source": [
    "class BJCard(Card):\n",
    "    \n",
    "    @property\n",
    "    def value(self):\n",
    "        if self.surface in {'J', 'Q', 'K'}:\n",
    "            return 10\n",
    "        elif self.surface == 'A':\n",
    "            return 11\n",
    "        else:\n",
    "            return int(self.surface)"
   ]
  },
  {
   "cell_type": "code",
   "execution_count": 162,
   "id": "638c2486",
   "metadata": {},
   "outputs": [],
   "source": [
    "class Deck:\n",
    "    def __init__(self, n_decks: int = 1):\n",
    "        self.cards = []\n",
    "        for i in range(n_decks):\n",
    "            self._create_deck()\n",
    "\n",
    "    def _create_deck(self):\n",
    "        for surface in [str(x) for x in range(2, 11)] + ['A', 'J', 'Q', 'K']:\n",
    "            for seed in ['C', 'H', 'S', 'C']:\n",
    "                c = BJCard(surface = surface, seed = seed) # Blackjack card\n",
    "                self.cards.append(c)\n",
    "\n",
    "    def shuffle(self):\n",
    "        np.random.shuffle(self.cards)\n",
    "\n",
    "    def deal(self, hand_size: int):\n",
    "        hand = []\n",
    "        for i in range(hand_size):\n",
    "            try:\n",
    "                hand.append(self.cards.pop())\n",
    "            except IndexError:\n",
    "                self._create_deck()\n",
    "                hand.append(self.cards.pop())\n",
    "        return hand\n",
    "\n",
    "    @property\n",
    "    def size(self):\n",
    "        return len(self.cards)"
   ]
  },
  {
   "cell_type": "code",
   "execution_count": 163,
   "id": "aba79aef",
   "metadata": {},
   "outputs": [
    {
     "name": "stdout",
     "output_type": "stream",
     "text": [
      "A S 1\n",
      "A S 11\n"
     ]
    }
   ],
   "source": [
    "c = Card(surface = 'A', seed = 'S')\n",
    "b = BJCard(surface = 'A', seed = 'S')\n",
    "\n",
    "print(c, c.value)\n",
    "print(b, b.value)"
   ]
  },
  {
   "cell_type": "code",
   "execution_count": null,
   "id": "dada82cf",
   "metadata": {},
   "outputs": [],
   "source": []
  }
 ],
 "metadata": {
  "kernelspec": {
   "display_name": "Python 3 (ipykernel)",
   "language": "python",
   "name": "python3"
  },
  "language_info": {
   "codemirror_mode": {
    "name": "ipython",
    "version": 3
   },
   "file_extension": ".py",
   "mimetype": "text/x-python",
   "name": "python",
   "nbconvert_exporter": "python",
   "pygments_lexer": "ipython3",
   "version": "3.12.0"
  }
 },
 "nbformat": 4,
 "nbformat_minor": 5
}
